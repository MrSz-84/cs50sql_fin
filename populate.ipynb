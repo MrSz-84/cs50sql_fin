{
 "cells": [
  {
   "cell_type": "code",
   "execution_count": 2,
   "metadata": {},
   "outputs": [],
   "source": [
    "import tools.conf\n",
    "import psycopg2\n",
    "from psycopg2 import sql\n",
    "import pandas as pd\n",
    "import numpy as np\n",
    "\n",
    "pd.set_option('display.max_columns', None)"
   ]
  },
  {
   "cell_type": "code",
   "execution_count": 3,
   "metadata": {},
   "outputs": [],
   "source": [
    "df = pd.read_csv('./data/baza.csv', delimiter=';')\n",
    "df.sort_values(by='data', axis=0, inplace=True)\n",
    "df.reset_index(inplace=True)\n",
    "df.drop('index', axis=1, inplace=True)\n"
   ]
  },
  {
   "cell_type": "code",
   "execution_count": 143,
   "metadata": {},
   "outputs": [
    {
     "data": {
      "text/html": [
       "<div>\n",
       "<style scoped>\n",
       "    .dataframe tbody tr th:only-of-type {\n",
       "        vertical-align: middle;\n",
       "    }\n",
       "\n",
       "    .dataframe tbody tr th {\n",
       "        vertical-align: top;\n",
       "    }\n",
       "\n",
       "    .dataframe thead th {\n",
       "        text-align: right;\n",
       "    }\n",
       "</style>\n",
       "<table border=\"1\" class=\"dataframe\">\n",
       "  <thead>\n",
       "    <tr style=\"text-align: right;\">\n",
       "      <th></th>\n",
       "      <th>data</th>\n",
       "      <th>dzien</th>\n",
       "      <th>dzien_tyg</th>\n",
       "      <th>nr_tyg</th>\n",
       "      <th>rok</th>\n",
       "      <th>miesiac</th>\n",
       "      <th>zasięg medium</th>\n",
       "      <th>brand</th>\n",
       "      <th>produkt(4)</th>\n",
       "      <th>kod_reklamy</th>\n",
       "      <th>opis_reklamy</th>\n",
       "      <th>wydawca_nadawca</th>\n",
       "      <th>typ_reklamy</th>\n",
       "      <th>submedium</th>\n",
       "      <th>dl_mod</th>\n",
       "      <th>gg</th>\n",
       "      <th>mm</th>\n",
       "      <th>koszt</th>\n",
       "      <th>l_emisji</th>\n",
       "      <th>daypart</th>\n",
       "      <th>dł_ujednolicona</th>\n",
       "      <th>godzina_bloku_reklamowego</th>\n",
       "    </tr>\n",
       "  </thead>\n",
       "  <tbody>\n",
       "    <tr>\n",
       "      <th>0</th>\n",
       "      <td>2023-08-01</td>\n",
       "      <td>1</td>\n",
       "      <td>Wtorek</td>\n",
       "      <td>31</td>\n",
       "      <td>2023</td>\n",
       "      <td>8</td>\n",
       "      <td>regionalne</td>\n",
       "      <td>MEDIA MASTER</td>\n",
       "      <td>GRUPA</td>\n",
       "      <td>22194483</td>\n",
       "      <td>PATRZ BARBARA NO ALE..MEGA OKAZJE..SF SAMSUNG ...</td>\n",
       "      <td>SOME GROUP</td>\n",
       "      <td>reklama</td>\n",
       "      <td>SOME MINN Bydgoszcz</td>\n",
       "      <td>29</td>\n",
       "      <td>8</td>\n",
       "      <td>20</td>\n",
       "      <td>310</td>\n",
       "      <td>1</td>\n",
       "      <td>do 9</td>\n",
       "      <td>30</td>\n",
       "      <td>8:00-8:29</td>\n",
       "    </tr>\n",
       "    <tr>\n",
       "      <th>1</th>\n",
       "      <td>2023-08-01</td>\n",
       "      <td>1</td>\n",
       "      <td>Wtorek</td>\n",
       "      <td>31</td>\n",
       "      <td>2023</td>\n",
       "      <td>8</td>\n",
       "      <td>miejskie</td>\n",
       "      <td>MEDIA MASTER</td>\n",
       "      <td>GRUPA</td>\n",
       "      <td>22179830</td>\n",
       "      <td>MARIAN A GDZIE MOGĘ KUPIĆ..DOKUPIĆ..ŻEBY TO WS...</td>\n",
       "      <td>PIGLET S.A.</td>\n",
       "      <td>reklama</td>\n",
       "      <td>FROGGY WEATHER Warszawa</td>\n",
       "      <td>14</td>\n",
       "      <td>10</td>\n",
       "      <td>59</td>\n",
       "      <td>311</td>\n",
       "      <td>1</td>\n",
       "      <td>od 9 do 16</td>\n",
       "      <td>15</td>\n",
       "      <td>10:30-10:59</td>\n",
       "    </tr>\n",
       "    <tr>\n",
       "      <th>2</th>\n",
       "      <td>2023-08-01</td>\n",
       "      <td>1</td>\n",
       "      <td>Wtorek</td>\n",
       "      <td>31</td>\n",
       "      <td>2023</td>\n",
       "      <td>8</td>\n",
       "      <td>regionalne</td>\n",
       "      <td>MEDIA MASTER</td>\n",
       "      <td>GRUPA</td>\n",
       "      <td>22194487</td>\n",
       "      <td>PATRZ BARBARA NO ALE..MEGA OKAZJE..TV SMART PH...</td>\n",
       "      <td>PIGLET S.A.</td>\n",
       "      <td>reklama</td>\n",
       "      <td>YELLOW HITS Zielona Góra</td>\n",
       "      <td>30</td>\n",
       "      <td>15</td>\n",
       "      <td>22</td>\n",
       "      <td>73</td>\n",
       "      <td>1</td>\n",
       "      <td>od 9 do 16</td>\n",
       "      <td>30</td>\n",
       "      <td>15:00-15:29</td>\n",
       "    </tr>\n",
       "    <tr>\n",
       "      <th>3</th>\n",
       "      <td>2023-08-01</td>\n",
       "      <td>1</td>\n",
       "      <td>Wtorek</td>\n",
       "      <td>31</td>\n",
       "      <td>2023</td>\n",
       "      <td>8</td>\n",
       "      <td>regionalne</td>\n",
       "      <td>MEDIA MASTER</td>\n",
       "      <td>GRUPA</td>\n",
       "      <td>22194445</td>\n",
       "      <td>PATRZ BARBARA NO ALE..MEGA OKAZJE..AUT. EKSPRE...</td>\n",
       "      <td>PIGLET S.A.</td>\n",
       "      <td>reklama</td>\n",
       "      <td>YELLOW HITS Zielona Góra</td>\n",
       "      <td>29</td>\n",
       "      <td>14</td>\n",
       "      <td>42</td>\n",
       "      <td>67</td>\n",
       "      <td>1</td>\n",
       "      <td>od 9 do 16</td>\n",
       "      <td>30</td>\n",
       "      <td>14:30-14:59</td>\n",
       "    </tr>\n",
       "    <tr>\n",
       "      <th>4</th>\n",
       "      <td>2023-08-01</td>\n",
       "      <td>1</td>\n",
       "      <td>Wtorek</td>\n",
       "      <td>31</td>\n",
       "      <td>2023</td>\n",
       "      <td>8</td>\n",
       "      <td>regionalne</td>\n",
       "      <td>MEDIA MASTER</td>\n",
       "      <td>GRUPA</td>\n",
       "      <td>22194475</td>\n",
       "      <td>BARBARA W - SĄ MEGA OKAZJE..MULTIRABATY..IM WI...</td>\n",
       "      <td>PIGLET S.A.</td>\n",
       "      <td>reklama</td>\n",
       "      <td>YELLOW HITS Zielona Góra</td>\n",
       "      <td>30</td>\n",
       "      <td>13</td>\n",
       "      <td>58</td>\n",
       "      <td>67</td>\n",
       "      <td>1</td>\n",
       "      <td>od 9 do 16</td>\n",
       "      <td>30</td>\n",
       "      <td>13:30-13:59</td>\n",
       "    </tr>\n",
       "  </tbody>\n",
       "</table>\n",
       "</div>"
      ],
      "text/plain": [
       "         data  dzien dzien_tyg  nr_tyg   rok  miesiac zasięg medium  \\\n",
       "0  2023-08-01      1    Wtorek      31  2023        8    regionalne   \n",
       "1  2023-08-01      1    Wtorek      31  2023        8      miejskie   \n",
       "2  2023-08-01      1    Wtorek      31  2023        8    regionalne   \n",
       "3  2023-08-01      1    Wtorek      31  2023        8    regionalne   \n",
       "4  2023-08-01      1    Wtorek      31  2023        8    regionalne   \n",
       "\n",
       "          brand produkt(4)  kod_reklamy  \\\n",
       "0  MEDIA MASTER      GRUPA     22194483   \n",
       "1  MEDIA MASTER      GRUPA     22179830   \n",
       "2  MEDIA MASTER      GRUPA     22194487   \n",
       "3  MEDIA MASTER      GRUPA     22194445   \n",
       "4  MEDIA MASTER      GRUPA     22194475   \n",
       "\n",
       "                                        opis_reklamy wydawca_nadawca  \\\n",
       "0  PATRZ BARBARA NO ALE..MEGA OKAZJE..SF SAMSUNG ...      SOME GROUP   \n",
       "1  MARIAN A GDZIE MOGĘ KUPIĆ..DOKUPIĆ..ŻEBY TO WS...     PIGLET S.A.   \n",
       "2  PATRZ BARBARA NO ALE..MEGA OKAZJE..TV SMART PH...     PIGLET S.A.   \n",
       "3  PATRZ BARBARA NO ALE..MEGA OKAZJE..AUT. EKSPRE...     PIGLET S.A.   \n",
       "4  BARBARA W - SĄ MEGA OKAZJE..MULTIRABATY..IM WI...     PIGLET S.A.   \n",
       "\n",
       "  typ_reklamy                 submedium  dl_mod  gg  mm  koszt  l_emisji  \\\n",
       "0     reklama       SOME MINN Bydgoszcz      29   8  20    310         1   \n",
       "1     reklama   FROGGY WEATHER Warszawa      14  10  59    311         1   \n",
       "2     reklama  YELLOW HITS Zielona Góra      30  15  22     73         1   \n",
       "3     reklama  YELLOW HITS Zielona Góra      29  14  42     67         1   \n",
       "4     reklama  YELLOW HITS Zielona Góra      30  13  58     67         1   \n",
       "\n",
       "      daypart  dł_ujednolicona godzina_bloku_reklamowego  \n",
       "0        do 9               30                 8:00-8:29  \n",
       "1  od 9 do 16               15               10:30-10:59  \n",
       "2  od 9 do 16               30               15:00-15:29  \n",
       "3  od 9 do 16               30               14:30-14:59  \n",
       "4  od 9 do 16               30               13:30-13:59  "
      ]
     },
     "execution_count": 143,
     "metadata": {},
     "output_type": "execute_result"
    }
   ],
   "source": [
    "df.head()"
   ]
  },
  {
   "cell_type": "code",
   "execution_count": 144,
   "metadata": {},
   "outputs": [
    {
     "name": "stdout",
     "output_type": "stream",
     "text": [
      "<class 'pandas.core.frame.DataFrame'>\n",
      "RangeIndex: 366681 entries, 0 to 366680\n",
      "Data columns (total 22 columns):\n",
      " #   Column                     Non-Null Count   Dtype \n",
      "---  ------                     --------------   ----- \n",
      " 0   data                       366681 non-null  object\n",
      " 1   dzien                      366681 non-null  int64 \n",
      " 2   dzien_tyg                  366681 non-null  object\n",
      " 3   nr_tyg                     366681 non-null  int64 \n",
      " 4   rok                        366681 non-null  int64 \n",
      " 5   miesiac                    366681 non-null  int64 \n",
      " 6   zasięg medium              366681 non-null  object\n",
      " 7   brand                      366681 non-null  object\n",
      " 8   produkt(4)                 366681 non-null  object\n",
      " 9   kod_reklamy                366681 non-null  int64 \n",
      " 10  opis_reklamy               366681 non-null  object\n",
      " 11  wydawca_nadawca            366681 non-null  object\n",
      " 12  typ_reklamy                366681 non-null  object\n",
      " 13  submedium                  366681 non-null  object\n",
      " 14  dl_mod                     366681 non-null  int64 \n",
      " 15  gg                         366681 non-null  int64 \n",
      " 16  mm                         366681 non-null  int64 \n",
      " 17  koszt                      366681 non-null  int64 \n",
      " 18  l_emisji                   366681 non-null  int64 \n",
      " 19  daypart                    366681 non-null  object\n",
      " 20  dł_ujednolicona            366681 non-null  int64 \n",
      " 21  godzina_bloku_reklamowego  366681 non-null  object\n",
      "dtypes: int64(11), object(11)\n",
      "memory usage: 61.5+ MB\n"
     ]
    }
   ],
   "source": [
    "df.info()"
   ]
  },
  {
   "cell_type": "code",
   "execution_count": 145,
   "metadata": {},
   "outputs": [],
   "source": [
    "dow2 = ['Poniedziałek', 'Wtorek', 'Środa', 'Czwartek', 'Piątek',\n",
    "        'Sobota', 'Niedziela']"
   ]
  },
  {
   "cell_type": "code",
   "execution_count": 146,
   "metadata": {},
   "outputs": [],
   "source": [
    "conn = psycopg2.connect(\n",
    "    f'''dbname={tools.conf.DB} \n",
    "        user={tools.conf.USER} \n",
    "        host={tools.conf.HOST}\n",
    "        port={tools.conf.PORT}\n",
    "    '''\n",
    "    )\n",
    "cur = conn.cursor()\n",
    "\n",
    "\n",
    "for day in dow2:\n",
    "    cur.execute(\n",
    "        sql.SQL('INSERT INTO {} (dow_name) VALUES (%s)')\n",
    "        .format(sql.Identifier('pl_dow_names')), (day,)\n",
    "    )\n",
    "\n",
    "conn.commit()\n",
    "conn.close()"
   ]
  },
  {
   "cell_type": "code",
   "execution_count": 147,
   "metadata": {},
   "outputs": [],
   "source": [
    "months = ['Styczeń', 'Luty', 'Marzec', 'Kwiecień', 'Maj',\n",
    "          'Czerwiec', 'Lipiec', 'Sierpień', 'Wrzesień',\n",
    "          'Październik', 'Listopad', 'Grudzień']"
   ]
  },
  {
   "cell_type": "code",
   "execution_count": 148,
   "metadata": {},
   "outputs": [],
   "source": [
    "conn = psycopg2.connect(\n",
    "    f'''dbname={tools.conf.DB} \n",
    "        user={tools.conf.USER} \n",
    "        host={tools.conf.HOST}\n",
    "        port={tools.conf.PORT}\n",
    "    '''\n",
    "    )\n",
    "cur = conn.cursor()\n",
    "\n",
    "\n",
    "query = sql.SQL('INSERT INTO {table} ({field}) VALUES (%s)')\n",
    "\n",
    "for month in months:\n",
    "    cur.execute(\n",
    "        query.format(\n",
    "            table=sql.Identifier('pl_month_names'),\n",
    "            field=sql.Identifier('month_name')), (month,)\n",
    "    )\n",
    "\n",
    "conn.commit()\n",
    "conn.close()\n"
   ]
  },
  {
   "cell_type": "code",
   "execution_count": 149,
   "metadata": {},
   "outputs": [
    {
     "data": {
      "text/plain": [
       "array(['2023-08-01', '2023-08-02', '2023-08-03', '2023-08-04',\n",
       "       '2023-08-05', '2023-08-06', '2023-08-07', '2023-08-08',\n",
       "       '2023-08-09', '2023-08-10', '2023-08-11', '2023-08-12',\n",
       "       '2023-08-13', '2023-08-14', '2023-08-15', '2023-08-16',\n",
       "       '2023-08-17', '2023-08-18', '2023-08-19', '2023-08-20',\n",
       "       '2023-08-21', '2023-08-22', '2023-08-23', '2023-08-24',\n",
       "       '2023-08-25', '2023-08-26', '2023-08-27', '2023-08-28',\n",
       "       '2023-08-29', '2023-08-30', '2023-08-31', '2023-09-01',\n",
       "       '2023-09-02', '2023-09-03', '2023-09-04', '2023-09-05',\n",
       "       '2023-09-06', '2023-09-07', '2023-09-08', '2023-09-09',\n",
       "       '2023-09-10', '2023-09-11', '2023-09-12', '2023-09-13',\n",
       "       '2023-09-14', '2023-09-15', '2023-09-16', '2023-09-17',\n",
       "       '2023-09-18', '2023-09-19', '2023-09-20', '2023-09-21',\n",
       "       '2023-09-22', '2023-09-23', '2023-09-24', '2023-09-25',\n",
       "       '2023-09-26', '2023-09-27', '2023-09-28', '2023-09-29',\n",
       "       '2023-09-30', '2023-10-01', '2023-10-02', '2023-10-03',\n",
       "       '2023-10-04', '2023-10-05', '2023-10-06', '2023-10-07',\n",
       "       '2023-10-08', '2023-10-09', '2023-10-10', '2023-10-11',\n",
       "       '2023-10-12', '2023-10-13', '2023-10-14', '2023-10-15',\n",
       "       '2023-10-16', '2023-10-17', '2023-10-18', '2023-10-19',\n",
       "       '2023-10-20', '2023-10-21', '2023-10-22', '2023-10-23',\n",
       "       '2023-10-24', '2023-10-25', '2023-10-26', '2023-10-27',\n",
       "       '2023-10-28', '2023-10-29', '2023-10-30', '2023-10-31'],\n",
       "      dtype=object)"
      ]
     },
     "execution_count": 149,
     "metadata": {},
     "output_type": "execute_result"
    }
   ],
   "source": [
    "dates = df['data'].unique()\n",
    "dates"
   ]
  },
  {
   "cell_type": "code",
   "execution_count": 150,
   "metadata": {},
   "outputs": [],
   "source": [
    "conn = psycopg2.connect(\n",
    "    f'''dbname={tools.conf.DB} \n",
    "        user={tools.conf.USER} \n",
    "        host={tools.conf.HOST}\n",
    "        port={tools.conf.PORT}\n",
    "    '''\n",
    "    )\n",
    "cur = conn.cursor()\n",
    "\n",
    "\n",
    "query = sql.SQL('INSERT INTO {table} ({field}) VALUES (%s)')\n",
    "\n",
    "for date in dates:\n",
    "    cur.execute(\n",
    "        query.format(\n",
    "            table=sql.Identifier('date_time'),\n",
    "            field=sql.Identifier('date')), (date,)\n",
    "    )\n",
    "\n",
    "conn.commit()\n",
    "conn.close()"
   ]
  },
  {
   "cell_type": "code",
   "execution_count": 8,
   "metadata": {},
   "outputs": [
    {
     "data": {
      "text/plain": [
       "array(['EURO APPLIANCES', 'MEDIA MASTER', 'MEDIA SHOP', 'NEWNET'],\n",
       "      dtype=object)"
      ]
     },
     "execution_count": 8,
     "metadata": {},
     "output_type": "execute_result"
    }
   ],
   "source": [
    "brands = df['brand'].sort_values().unique()\n",
    "brands"
   ]
  },
  {
   "cell_type": "code",
   "execution_count": 10,
   "metadata": {},
   "outputs": [],
   "source": [
    "conn = psycopg2.connect(\n",
    "    f'''dbname={tools.conf.DB} \n",
    "        user={tools.conf.USER} \n",
    "        host={tools.conf.HOST}\n",
    "        port={tools.conf.PORT}\n",
    "    '''\n",
    "    )\n",
    "cur = conn.cursor()\n",
    "\n",
    "query = sql.SQL('INSERT INTO {table} ({field}) VALUES(%s)')\n",
    "\n",
    "for brand in brands:\n",
    "    cur.execute(\n",
    "        query.format(\n",
    "            table=sql.Identifier('brands'),\n",
    "            field=sql.Identifier('brand')), (brand,)\n",
    "    )\n",
    "\n",
    "conn.commit()\n",
    "conn.close()"
   ]
  },
  {
   "cell_type": "code",
   "execution_count": 13,
   "metadata": {},
   "outputs": [
    {
     "data": {
      "text/plain": [
       "array([15, 20, 30])"
      ]
     },
     "execution_count": 13,
     "metadata": {},
     "output_type": "execute_result"
    }
   ],
   "source": [
    "lengths = df['dł_ujednolicona'].sort_values().unique()\n",
    "lengths"
   ]
  },
  {
   "cell_type": "code",
   "execution_count": 15,
   "metadata": {},
   "outputs": [],
   "source": [
    "conn = psycopg2.connect(\n",
    "    f'''dbname={tools.conf.DB} \n",
    "        user={tools.conf.USER} \n",
    "        host={tools.conf.HOST}\n",
    "        port={tools.conf.PORT}\n",
    "    '''\n",
    "    )\n",
    "cur = conn.cursor()\n",
    "\n",
    "query = sql.SQL('INSERT INTO {table} ({field}) VALUES (%s)')\n",
    "\n",
    "for length in lengths:\n",
    "    cur.execute(\n",
    "        query.format(\n",
    "            table=sql.Identifier('unified_lenghts'),\n",
    "            field=sql.Identifier('length')), (str(length),)\n",
    "    )\n",
    "    \n",
    "conn.commit()\n",
    "conn.close()"
   ]
  },
  {
   "cell_type": "code",
   "execution_count": 17,
   "metadata": {},
   "outputs": [
    {
     "data": {
      "text/plain": [
       "array(['do 9', 'od 9 do 16', 'po 16'], dtype=object)"
      ]
     },
     "execution_count": 17,
     "metadata": {},
     "output_type": "execute_result"
    }
   ],
   "source": [
    "dayparts = df['daypart'].unique()\n",
    "dayparts"
   ]
  },
  {
   "cell_type": "code",
   "execution_count": 19,
   "metadata": {},
   "outputs": [],
   "source": [
    "conn = psycopg2.connect(\n",
    "    f'''dbname={tools.conf.DB} \n",
    "        user={tools.conf.USER} \n",
    "        host={tools.conf.HOST}\n",
    "        port={tools.conf.PORT}\n",
    "    '''\n",
    "    )\n",
    "cur = conn.cursor()\n",
    "\n",
    "query = sql.SQL('INSERT INTO {table} ({field}) VALUES (%s)')\n",
    "\n",
    "for daypart in dayparts:\n",
    "    cur.execute(\n",
    "        query.format(\n",
    "            table=sql.Identifier('dayparts'),\n",
    "            field=sql.Identifier('daypart')), (str(daypart),)\n",
    "    )\n",
    "    \n",
    "conn.commit()\n",
    "conn.close()"
   ]
  },
  {
   "cell_type": "code",
   "execution_count": 22,
   "metadata": {},
   "outputs": [
    {
     "data": {
      "text/plain": [
       "array(['AGD, RTV, ELEKTRONIKA, FOTOGRAFIA, KOMPUTERY', 'GRUPA',\n",
       "       'OGŁOSZENIA O PRACY'], dtype=object)"
      ]
     },
     "execution_count": 22,
     "metadata": {},
     "output_type": "execute_result"
    }
   ],
   "source": [
    "product_types = df['produkt(4)'].sort_values().unique()\n",
    "product_types"
   ]
  },
  {
   "cell_type": "code",
   "execution_count": null,
   "metadata": {},
   "outputs": [],
   "source": [
    "conn = psycopg2.connect(\n",
    "    f'''dbname={tools.conf.DB} \n",
    "        user={tools.conf.USER} \n",
    "        host={tools.conf.HOST}\n",
    "        port={tools.conf.PORT}\n",
    "    '''\n",
    "    )\n",
    "cur = conn.cursor()\n",
    "\n",
    "query = sql.SQL('INSERT INTO {table} ({field}) VALUES (%s)')\n",
    "\n",
    "for product in product_types:\n",
    "    cur.execute(\n",
    "        query.format(\n",
    "            table=sql.Identifier('product_types'),\n",
    "            field=sql.Identifier('product_type')), (str(product),)\n",
    "    )\n",
    "    \n",
    "conn.commit()\n",
    "conn.close()"
   ]
  }
 ],
 "metadata": {
  "kernelspec": {
   "display_name": "Python 3",
   "language": "python",
   "name": "python3"
  },
  "language_info": {
   "codemirror_mode": {
    "name": "ipython",
    "version": 3
   },
   "file_extension": ".py",
   "mimetype": "text/x-python",
   "name": "python",
   "nbconvert_exporter": "python",
   "pygments_lexer": "ipython3",
   "version": "3.12.2"
  }
 },
 "nbformat": 4,
 "nbformat_minor": 2
}
